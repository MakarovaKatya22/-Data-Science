{
  "cells": [
    {
      "cell_type": "markdown",
      "metadata": {
        "id": "YszvpNTmfE_s"
      },
      "source": [
        "# Data Science – Упражнения для обработки текста\n"
      ]
    },
    {
      "cell_type": "markdown",
      "metadata": {
        "id": "7x6i2aExfE_u"
      },
      "source": [
        "## NLP\n",
        "\n",
        "### Упражнение 1: Часто встречающиеся слова\n",
        "Найдите в «Моби Дике» наиболее часто используемые слова, которые не являются стоп-словами и знаками препинания. Подсказка: здесь может пригодиться [`str.isalpha()`](https://docs.python.org/3/library/stdtypes.html#str.isalpha)."
      ]
    },
    {
      "cell_type": "code",
      "execution_count": 8,
      "metadata": {
        "id": "tUheBpVvfE_u",
        "colab": {
          "base_uri": "https://localhost:8080/"
        },
        "outputId": "41a28855-3045-41bf-d7a8-c61d8e9be6d4",
        "collapsed": true
      },
      "outputs": [
        {
          "output_type": "stream",
          "name": "stderr",
          "text": [
            "[nltk_data] Downloading collection 'all'\n",
            "[nltk_data]    | \n",
            "[nltk_data]    | Downloading package abc to /root/nltk_data...\n",
            "[nltk_data]    |   Package abc is already up-to-date!\n",
            "[nltk_data]    | Downloading package alpino to /root/nltk_data...\n",
            "[nltk_data]    |   Package alpino is already up-to-date!\n",
            "[nltk_data]    | Downloading package averaged_perceptron_tagger to\n",
            "[nltk_data]    |     /root/nltk_data...\n",
            "[nltk_data]    |   Package averaged_perceptron_tagger is already up-\n",
            "[nltk_data]    |       to-date!\n",
            "[nltk_data]    | Downloading package averaged_perceptron_tagger_ru to\n",
            "[nltk_data]    |     /root/nltk_data...\n",
            "[nltk_data]    |   Package averaged_perceptron_tagger_ru is already\n",
            "[nltk_data]    |       up-to-date!\n",
            "[nltk_data]    | Downloading package basque_grammars to\n",
            "[nltk_data]    |     /root/nltk_data...\n",
            "[nltk_data]    |   Package basque_grammars is already up-to-date!\n",
            "[nltk_data]    | Downloading package bcp47 to /root/nltk_data...\n",
            "[nltk_data]    |   Package bcp47 is already up-to-date!\n",
            "[nltk_data]    | Downloading package biocreative_ppi to\n",
            "[nltk_data]    |     /root/nltk_data...\n",
            "[nltk_data]    |   Package biocreative_ppi is already up-to-date!\n",
            "[nltk_data]    | Downloading package bllip_wsj_no_aux to\n",
            "[nltk_data]    |     /root/nltk_data...\n",
            "[nltk_data]    |   Package bllip_wsj_no_aux is already up-to-date!\n",
            "[nltk_data]    | Downloading package book_grammars to\n",
            "[nltk_data]    |     /root/nltk_data...\n",
            "[nltk_data]    |   Package book_grammars is already up-to-date!\n",
            "[nltk_data]    | Downloading package brown to /root/nltk_data...\n",
            "[nltk_data]    |   Package brown is already up-to-date!\n",
            "[nltk_data]    | Downloading package brown_tei to /root/nltk_data...\n",
            "[nltk_data]    |   Package brown_tei is already up-to-date!\n",
            "[nltk_data]    | Downloading package cess_cat to /root/nltk_data...\n",
            "[nltk_data]    |   Package cess_cat is already up-to-date!\n",
            "[nltk_data]    | Downloading package cess_esp to /root/nltk_data...\n",
            "[nltk_data]    |   Package cess_esp is already up-to-date!\n",
            "[nltk_data]    | Downloading package chat80 to /root/nltk_data...\n",
            "[nltk_data]    |   Package chat80 is already up-to-date!\n",
            "[nltk_data]    | Downloading package city_database to\n",
            "[nltk_data]    |     /root/nltk_data...\n",
            "[nltk_data]    |   Package city_database is already up-to-date!\n",
            "[nltk_data]    | Downloading package cmudict to /root/nltk_data...\n",
            "[nltk_data]    |   Package cmudict is already up-to-date!\n",
            "[nltk_data]    | Downloading package comparative_sentences to\n",
            "[nltk_data]    |     /root/nltk_data...\n",
            "[nltk_data]    |   Package comparative_sentences is already up-to-\n",
            "[nltk_data]    |       date!\n",
            "[nltk_data]    | Downloading package comtrans to /root/nltk_data...\n",
            "[nltk_data]    |   Package comtrans is already up-to-date!\n",
            "[nltk_data]    | Downloading package conll2000 to /root/nltk_data...\n",
            "[nltk_data]    |   Package conll2000 is already up-to-date!\n",
            "[nltk_data]    | Downloading package conll2002 to /root/nltk_data...\n",
            "[nltk_data]    |   Package conll2002 is already up-to-date!\n",
            "[nltk_data]    | Downloading package conll2007 to /root/nltk_data...\n",
            "[nltk_data]    |   Package conll2007 is already up-to-date!\n",
            "[nltk_data]    | Downloading package crubadan to /root/nltk_data...\n",
            "[nltk_data]    |   Package crubadan is already up-to-date!\n",
            "[nltk_data]    | Downloading package dependency_treebank to\n",
            "[nltk_data]    |     /root/nltk_data...\n",
            "[nltk_data]    |   Package dependency_treebank is already up-to-date!\n",
            "[nltk_data]    | Downloading package dolch to /root/nltk_data...\n",
            "[nltk_data]    |   Package dolch is already up-to-date!\n",
            "[nltk_data]    | Downloading package europarl_raw to\n",
            "[nltk_data]    |     /root/nltk_data...\n",
            "[nltk_data]    |   Package europarl_raw is already up-to-date!\n",
            "[nltk_data]    | Downloading package extended_omw to\n",
            "[nltk_data]    |     /root/nltk_data...\n",
            "[nltk_data]    |   Package extended_omw is already up-to-date!\n",
            "[nltk_data]    | Downloading package floresta to /root/nltk_data...\n",
            "[nltk_data]    |   Package floresta is already up-to-date!\n",
            "[nltk_data]    | Downloading package framenet_v15 to\n",
            "[nltk_data]    |     /root/nltk_data...\n",
            "[nltk_data]    |   Package framenet_v15 is already up-to-date!\n",
            "[nltk_data]    | Downloading package framenet_v17 to\n",
            "[nltk_data]    |     /root/nltk_data...\n",
            "[nltk_data]    |   Package framenet_v17 is already up-to-date!\n",
            "[nltk_data]    | Downloading package gazetteers to /root/nltk_data...\n",
            "[nltk_data]    |   Package gazetteers is already up-to-date!\n",
            "[nltk_data]    | Downloading package genesis to /root/nltk_data...\n",
            "[nltk_data]    |   Package genesis is already up-to-date!\n",
            "[nltk_data]    | Downloading package gutenberg to /root/nltk_data...\n",
            "[nltk_data]    |   Package gutenberg is already up-to-date!\n",
            "[nltk_data]    | Downloading package ieer to /root/nltk_data...\n",
            "[nltk_data]    |   Package ieer is already up-to-date!\n",
            "[nltk_data]    | Downloading package inaugural to /root/nltk_data...\n",
            "[nltk_data]    |   Package inaugural is already up-to-date!\n",
            "[nltk_data]    | Downloading package indian to /root/nltk_data...\n",
            "[nltk_data]    |   Package indian is already up-to-date!\n",
            "[nltk_data]    | Downloading package jeita to /root/nltk_data...\n",
            "[nltk_data]    |   Package jeita is already up-to-date!\n",
            "[nltk_data]    | Downloading package kimmo to /root/nltk_data...\n",
            "[nltk_data]    |   Package kimmo is already up-to-date!\n",
            "[nltk_data]    | Downloading package knbc to /root/nltk_data...\n",
            "[nltk_data]    |   Package knbc is already up-to-date!\n",
            "[nltk_data]    | Downloading package large_grammars to\n",
            "[nltk_data]    |     /root/nltk_data...\n",
            "[nltk_data]    |   Package large_grammars is already up-to-date!\n",
            "[nltk_data]    | Downloading package lin_thesaurus to\n",
            "[nltk_data]    |     /root/nltk_data...\n",
            "[nltk_data]    |   Package lin_thesaurus is already up-to-date!\n",
            "[nltk_data]    | Downloading package mac_morpho to /root/nltk_data...\n",
            "[nltk_data]    |   Package mac_morpho is already up-to-date!\n",
            "[nltk_data]    | Downloading package machado to /root/nltk_data...\n",
            "[nltk_data]    |   Package machado is already up-to-date!\n",
            "[nltk_data]    | Downloading package masc_tagged to /root/nltk_data...\n",
            "[nltk_data]    |   Package masc_tagged is already up-to-date!\n",
            "[nltk_data]    | Downloading package maxent_ne_chunker to\n",
            "[nltk_data]    |     /root/nltk_data...\n",
            "[nltk_data]    |   Package maxent_ne_chunker is already up-to-date!\n",
            "[nltk_data]    | Downloading package maxent_treebank_pos_tagger to\n",
            "[nltk_data]    |     /root/nltk_data...\n",
            "[nltk_data]    |   Package maxent_treebank_pos_tagger is already up-\n",
            "[nltk_data]    |       to-date!\n",
            "[nltk_data]    | Downloading package moses_sample to\n",
            "[nltk_data]    |     /root/nltk_data...\n",
            "[nltk_data]    |   Package moses_sample is already up-to-date!\n",
            "[nltk_data]    | Downloading package movie_reviews to\n",
            "[nltk_data]    |     /root/nltk_data...\n",
            "[nltk_data]    |   Package movie_reviews is already up-to-date!\n",
            "[nltk_data]    | Downloading package mte_teip5 to /root/nltk_data...\n",
            "[nltk_data]    |   Package mte_teip5 is already up-to-date!\n",
            "[nltk_data]    | Downloading package mwa_ppdb to /root/nltk_data...\n",
            "[nltk_data]    |   Package mwa_ppdb is already up-to-date!\n",
            "[nltk_data]    | Downloading package names to /root/nltk_data...\n",
            "[nltk_data]    |   Package names is already up-to-date!\n",
            "[nltk_data]    | Downloading package nombank.1.0 to /root/nltk_data...\n",
            "[nltk_data]    |   Package nombank.1.0 is already up-to-date!\n",
            "[nltk_data]    | Downloading package nonbreaking_prefixes to\n",
            "[nltk_data]    |     /root/nltk_data...\n",
            "[nltk_data]    |   Package nonbreaking_prefixes is already up-to-date!\n",
            "[nltk_data]    | Downloading package nps_chat to /root/nltk_data...\n",
            "[nltk_data]    |   Package nps_chat is already up-to-date!\n",
            "[nltk_data]    | Downloading package omw to /root/nltk_data...\n",
            "[nltk_data]    |   Package omw is already up-to-date!\n",
            "[nltk_data]    | Downloading package omw-1.4 to /root/nltk_data...\n",
            "[nltk_data]    |   Package omw-1.4 is already up-to-date!\n",
            "[nltk_data]    | Downloading package opinion_lexicon to\n",
            "[nltk_data]    |     /root/nltk_data...\n",
            "[nltk_data]    |   Package opinion_lexicon is already up-to-date!\n",
            "[nltk_data]    | Downloading package panlex_swadesh to\n",
            "[nltk_data]    |     /root/nltk_data...\n",
            "[nltk_data]    |   Package panlex_swadesh is already up-to-date!\n",
            "[nltk_data]    | Downloading package paradigms to /root/nltk_data...\n",
            "[nltk_data]    |   Package paradigms is already up-to-date!\n",
            "[nltk_data]    | Downloading package pe08 to /root/nltk_data...\n",
            "[nltk_data]    |   Package pe08 is already up-to-date!\n",
            "[nltk_data]    | Downloading package perluniprops to\n",
            "[nltk_data]    |     /root/nltk_data...\n",
            "[nltk_data]    |   Package perluniprops is already up-to-date!\n",
            "[nltk_data]    | Downloading package pil to /root/nltk_data...\n",
            "[nltk_data]    |   Package pil is already up-to-date!\n",
            "[nltk_data]    | Downloading package pl196x to /root/nltk_data...\n",
            "[nltk_data]    |   Package pl196x is already up-to-date!\n",
            "[nltk_data]    | Downloading package porter_test to /root/nltk_data...\n",
            "[nltk_data]    |   Package porter_test is already up-to-date!\n",
            "[nltk_data]    | Downloading package ppattach to /root/nltk_data...\n",
            "[nltk_data]    |   Package ppattach is already up-to-date!\n",
            "[nltk_data]    | Downloading package problem_reports to\n",
            "[nltk_data]    |     /root/nltk_data...\n",
            "[nltk_data]    |   Package problem_reports is already up-to-date!\n",
            "[nltk_data]    | Downloading package product_reviews_1 to\n",
            "[nltk_data]    |     /root/nltk_data...\n",
            "[nltk_data]    |   Package product_reviews_1 is already up-to-date!\n",
            "[nltk_data]    | Downloading package product_reviews_2 to\n",
            "[nltk_data]    |     /root/nltk_data...\n",
            "[nltk_data]    |   Package product_reviews_2 is already up-to-date!\n",
            "[nltk_data]    | Downloading package propbank to /root/nltk_data...\n",
            "[nltk_data]    |   Package propbank is already up-to-date!\n",
            "[nltk_data]    | Downloading package pros_cons to /root/nltk_data...\n",
            "[nltk_data]    |   Package pros_cons is already up-to-date!\n",
            "[nltk_data]    | Downloading package ptb to /root/nltk_data...\n",
            "[nltk_data]    |   Package ptb is already up-to-date!\n",
            "[nltk_data]    | Downloading package punkt to /root/nltk_data...\n",
            "[nltk_data]    |   Package punkt is already up-to-date!\n",
            "[nltk_data]    | Downloading package qc to /root/nltk_data...\n",
            "[nltk_data]    |   Package qc is already up-to-date!\n",
            "[nltk_data]    | Downloading package reuters to /root/nltk_data...\n",
            "[nltk_data]    |   Package reuters is already up-to-date!\n",
            "[nltk_data]    | Downloading package rslp to /root/nltk_data...\n",
            "[nltk_data]    |   Package rslp is already up-to-date!\n",
            "[nltk_data]    | Downloading package rte to /root/nltk_data...\n",
            "[nltk_data]    |   Package rte is already up-to-date!\n",
            "[nltk_data]    | Downloading package sample_grammars to\n",
            "[nltk_data]    |     /root/nltk_data...\n",
            "[nltk_data]    |   Package sample_grammars is already up-to-date!\n",
            "[nltk_data]    | Downloading package semcor to /root/nltk_data...\n",
            "[nltk_data]    |   Package semcor is already up-to-date!\n",
            "[nltk_data]    | Downloading package senseval to /root/nltk_data...\n",
            "[nltk_data]    |   Package senseval is already up-to-date!\n",
            "[nltk_data]    | Downloading package sentence_polarity to\n",
            "[nltk_data]    |     /root/nltk_data...\n",
            "[nltk_data]    |   Package sentence_polarity is already up-to-date!\n",
            "[nltk_data]    | Downloading package sentiwordnet to\n",
            "[nltk_data]    |     /root/nltk_data...\n",
            "[nltk_data]    |   Package sentiwordnet is already up-to-date!\n",
            "[nltk_data]    | Downloading package shakespeare to /root/nltk_data...\n",
            "[nltk_data]    |   Package shakespeare is already up-to-date!\n",
            "[nltk_data]    | Downloading package sinica_treebank to\n",
            "[nltk_data]    |     /root/nltk_data...\n",
            "[nltk_data]    |   Package sinica_treebank is already up-to-date!\n",
            "[nltk_data]    | Downloading package smultron to /root/nltk_data...\n",
            "[nltk_data]    |   Package smultron is already up-to-date!\n",
            "[nltk_data]    | Downloading package snowball_data to\n",
            "[nltk_data]    |     /root/nltk_data...\n",
            "[nltk_data]    |   Package snowball_data is already up-to-date!\n",
            "[nltk_data]    | Downloading package spanish_grammars to\n",
            "[nltk_data]    |     /root/nltk_data...\n",
            "[nltk_data]    |   Package spanish_grammars is already up-to-date!\n",
            "[nltk_data]    | Downloading package state_union to /root/nltk_data...\n",
            "[nltk_data]    |   Package state_union is already up-to-date!\n",
            "[nltk_data]    | Downloading package stopwords to /root/nltk_data...\n",
            "[nltk_data]    |   Package stopwords is already up-to-date!\n",
            "[nltk_data]    | Downloading package subjectivity to\n",
            "[nltk_data]    |     /root/nltk_data...\n",
            "[nltk_data]    |   Package subjectivity is already up-to-date!\n",
            "[nltk_data]    | Downloading package swadesh to /root/nltk_data...\n",
            "[nltk_data]    |   Package swadesh is already up-to-date!\n",
            "[nltk_data]    | Downloading package switchboard to /root/nltk_data...\n",
            "[nltk_data]    |   Package switchboard is already up-to-date!\n",
            "[nltk_data]    | Downloading package tagsets to /root/nltk_data...\n",
            "[nltk_data]    |   Package tagsets is already up-to-date!\n",
            "[nltk_data]    | Downloading package timit to /root/nltk_data...\n",
            "[nltk_data]    |   Package timit is already up-to-date!\n",
            "[nltk_data]    | Downloading package toolbox to /root/nltk_data...\n",
            "[nltk_data]    |   Package toolbox is already up-to-date!\n",
            "[nltk_data]    | Downloading package treebank to /root/nltk_data...\n",
            "[nltk_data]    |   Package treebank is already up-to-date!\n",
            "[nltk_data]    | Downloading package twitter_samples to\n",
            "[nltk_data]    |     /root/nltk_data...\n",
            "[nltk_data]    |   Package twitter_samples is already up-to-date!\n",
            "[nltk_data]    | Downloading package udhr to /root/nltk_data...\n",
            "[nltk_data]    |   Package udhr is already up-to-date!\n",
            "[nltk_data]    | Downloading package udhr2 to /root/nltk_data...\n",
            "[nltk_data]    |   Package udhr2 is already up-to-date!\n",
            "[nltk_data]    | Downloading package unicode_samples to\n",
            "[nltk_data]    |     /root/nltk_data...\n",
            "[nltk_data]    |   Package unicode_samples is already up-to-date!\n",
            "[nltk_data]    | Downloading package universal_tagset to\n",
            "[nltk_data]    |     /root/nltk_data...\n",
            "[nltk_data]    |   Package universal_tagset is already up-to-date!\n",
            "[nltk_data]    | Downloading package universal_treebanks_v20 to\n",
            "[nltk_data]    |     /root/nltk_data...\n",
            "[nltk_data]    |   Package universal_treebanks_v20 is already up-to-\n",
            "[nltk_data]    |       date!\n",
            "[nltk_data]    | Downloading package vader_lexicon to\n",
            "[nltk_data]    |     /root/nltk_data...\n",
            "[nltk_data]    |   Package vader_lexicon is already up-to-date!\n",
            "[nltk_data]    | Downloading package verbnet to /root/nltk_data...\n",
            "[nltk_data]    |   Package verbnet is already up-to-date!\n",
            "[nltk_data]    | Downloading package verbnet3 to /root/nltk_data...\n",
            "[nltk_data]    |   Package verbnet3 is already up-to-date!\n",
            "[nltk_data]    | Downloading package webtext to /root/nltk_data...\n",
            "[nltk_data]    |   Package webtext is already up-to-date!\n",
            "[nltk_data]    | Downloading package wmt15_eval to /root/nltk_data...\n",
            "[nltk_data]    |   Package wmt15_eval is already up-to-date!\n",
            "[nltk_data]    | Downloading package word2vec_sample to\n",
            "[nltk_data]    |     /root/nltk_data...\n",
            "[nltk_data]    |   Package word2vec_sample is already up-to-date!\n",
            "[nltk_data]    | Downloading package wordnet to /root/nltk_data...\n",
            "[nltk_data]    |   Package wordnet is already up-to-date!\n",
            "[nltk_data]    | Downloading package wordnet2021 to /root/nltk_data...\n",
            "[nltk_data]    |   Package wordnet2021 is already up-to-date!\n",
            "[nltk_data]    | Downloading package wordnet2022 to /root/nltk_data...\n",
            "[nltk_data]    |   Package wordnet2022 is already up-to-date!\n",
            "[nltk_data]    | Downloading package wordnet31 to /root/nltk_data...\n",
            "[nltk_data]    |   Package wordnet31 is already up-to-date!\n",
            "[nltk_data]    | Downloading package wordnet_ic to /root/nltk_data...\n",
            "[nltk_data]    |   Package wordnet_ic is already up-to-date!\n",
            "[nltk_data]    | Downloading package words to /root/nltk_data...\n",
            "[nltk_data]    |   Package words is already up-to-date!\n",
            "[nltk_data]    | Downloading package ycoe to /root/nltk_data...\n",
            "[nltk_data]    |   Package ycoe is already up-to-date!\n",
            "[nltk_data]    | \n",
            "[nltk_data]  Done downloading collection all\n"
          ]
        }
      ],
      "source": [
        "import nltk\n",
        "nltk.download('all')\n",
        "from nltk.corpus import stopwords\n",
        "stopwords = nltk.corpus.stopwords.words('english')\n",
        "from nltk.book import *"
      ]
    },
    {
      "cell_type": "code",
      "execution_count": 13,
      "metadata": {
        "id": "JPxvfgXqfE_v",
        "colab": {
          "base_uri": "https://localhost:8080/"
        },
        "outputId": "40383a18-44d3-4b8b-9cf4-7bed386772c3"
      },
      "outputs": [
        {
          "output_type": "stream",
          "name": "stderr",
          "text": [
            "[nltk_data] Downloading package stopwords to /root/nltk_data...\n",
            "[nltk_data]   Package stopwords is already up-to-date!\n"
          ]
        }
      ],
      "source": [
        "import numpy as np\n",
        "from sklearn.neighbors import NearestNeighbors\n",
        "from sklearn.neighbors import KNeighborsClassifier\n",
        "from sklearn import svm\n",
        "from sklearn.model_selection import cross_val_score\n",
        "from sklearn.model_selection import train_test_split\n",
        "import string\n",
        "from nltk.corpus import stopwords\n",
        "from collections import Counter\n",
        "from nltk.tokenize import word_tokenize\n",
        "from nltk import FreqDist\n",
        "from nltk.corpus import stopwords\n",
        "nltk.download('stopwords')\n",
        "stop_words = set(stopwords.words('english'))\n",
        "\n",
        "import matplotlib.pyplot as plt\n",
        "%matplotlib inline\n",
        "plt.rcParams['figure.figsize'] = (15, 9)\n",
        "plt.style.use('ggplot')"
      ]
    },
    {
      "cell_type": "code",
      "source": [
        "print(\"Всего слов:\", len(text1))\n",
        "print(\"Количество уникальных слов: \", len(set(text1)))"
      ],
      "metadata": {
        "colab": {
          "base_uri": "https://localhost:8080/"
        },
        "id": "ArAx_XCbcC_2",
        "outputId": "a31c1898-a6a2-4417-f914-95d4ac597354"
      },
      "execution_count": 16,
      "outputs": [
        {
          "output_type": "stream",
          "name": "stdout",
          "text": [
            "Всего слов: 260819\n",
            "Количество уникальных слов:  19317\n"
          ]
        }
      ]
    },
    {
      "cell_type": "code",
      "source": [
        "text = nltk.Text(text1) #создание объекта из text1\n",
        "\n",
        "word_list = [word.lower() for word in text.tokens if word.isalpha() # Приведение слов в нижний регистр\n",
        "  and word.lower() not in stop_words] #проверка слов в нижнем регистре, что они не входят в список стоп слов"
      ],
      "metadata": {
        "id": "vMv_zyIjJ3R7"
      },
      "execution_count": 14,
      "outputs": []
    },
    {
      "cell_type": "code",
      "source": [
        "print(\"Количество слов в обработанном списке:\", len(word_list))\n",
        "print(\"Количество уникальных слов в обработанном списке:\", len(set(word_list)))"
      ],
      "metadata": {
        "colab": {
          "base_uri": "https://localhost:8080/"
        },
        "id": "bUusdCqXcPwB",
        "outputId": "c985cf84-cb04-45a9-84af-918175d91e4b"
      },
      "execution_count": 18,
      "outputs": [
        {
          "output_type": "stream",
          "name": "stdout",
          "text": [
            "Количество слов в обработанном списке: 110459\n",
            "Количество уникальных слов в обработанном списке: 16802\n"
          ]
        }
      ]
    },
    {
      "cell_type": "markdown",
      "source": [
        "После обработки исходного текста от чисел и знаков препинания количество слов уменьшилось на 150360, а количество уникальных слов уменьшилось на 2515\n",
        "\n",
        "---\n",
        "\n"
      ],
      "metadata": {
        "id": "it019oc7cxsB"
      }
    },
    {
      "cell_type": "code",
      "source": [
        "fdist = FreqDist(word_list)# подсчёт частоты встречаемости слов в списке\n",
        "most_common_words = fdist.most_common(10) # извлечение 50 часто встречающихся слов\n",
        "\n",
        "for word, frequency in most_common_words: # цикл проходит по связrе слово-частота\n",
        "  print(f\"Слово |{word}| встречается {frequency} раз\")#Вывод результата"
      ],
      "metadata": {
        "colab": {
          "base_uri": "https://localhost:8080/"
        },
        "id": "yu4DduL1Atfh",
        "outputId": "e2af5743-8fdb-4696-f0db-c73c3b395a28"
      },
      "execution_count": 15,
      "outputs": [
        {
          "output_type": "stream",
          "name": "stdout",
          "text": [
            "Слово |whale| встречается 1226 раз\n",
            "Слово |one| встречается 921 раз\n",
            "Слово |like| встречается 647 раз\n",
            "Слово |upon| встречается 566 раз\n",
            "Слово |man| встречается 527 раз\n",
            "Слово |ship| встречается 518 раз\n",
            "Слово |ahab| встречается 511 раз\n",
            "Слово |ye| встречается 472 раз\n",
            "Слово |sea| встречается 455 раз\n",
            "Слово |old| встречается 450 раз\n"
          ]
        }
      ]
    },
    {
      "cell_type": "markdown",
      "source": [
        "Чаще всего встречается слово - \"кит\" с частотой 1226.\n",
        "\n",
        "Слово \"один\" встречается 921 - это второе слово по частоте употребления.\n",
        "\n",
        "Слово \"как\" встречается в тексте 647 раз."
      ],
      "metadata": {
        "id": "BfWAdMuwdnbE"
      }
    },
    {
      "cell_type": "code",
      "source": [
        "text1.concordance(\"whale\")#просмотр рядом стоящих слов с искомым словом \"Кит\""
      ],
      "metadata": {
        "colab": {
          "base_uri": "https://localhost:8080/"
        },
        "id": "bWu0ADCvd2zk",
        "outputId": "2a7b010e-ecdf-4efa-fd84-e492daf08f29"
      },
      "execution_count": 19,
      "outputs": [
        {
          "output_type": "stream",
          "name": "stdout",
          "text": [
            "Displaying 25 of 1226 matches:\n",
            "s , and to teach them by what name a whale - fish is to be called in our tongue\n",
            "t which is not true .\" -- HACKLUYT \" WHALE . ... Sw . and Dan . HVAL . This ani\n",
            "ulted .\" -- WEBSTER ' S DICTIONARY \" WHALE . ... It is more immediately from th\n",
            "ISH . WAL , DUTCH . HWAL , SWEDISH . WHALE , ICELANDIC . WHALE , ENGLISH . BALE\n",
            "HWAL , SWEDISH . WHALE , ICELANDIC . WHALE , ENGLISH . BALEINE , FRENCH . BALLE\n",
            "least , take the higgledy - piggledy whale statements , however authentic , in \n",
            " dreadful gulf of this monster ' s ( whale ' s ) mouth , are immediately lost a\n",
            " patient Job .\" -- RABELAIS . \" This whale ' s liver was two cartloads .\" -- ST\n",
            " Touching that monstrous bulk of the whale or ork we have received nothing cert\n",
            " of oil will be extracted out of one whale .\" -- IBID . \" HISTORY OF LIFE AND D\n",
            "ise .\" -- KING HENRY . \" Very like a whale .\" -- HAMLET . \" Which to secure , n\n",
            "restless paine , Like as the wounded whale to shore flies thro ' the maine .\" -\n",
            ". OF SPERMA CETI AND THE SPERMA CETI WHALE . VIDE HIS V . E . \" Like Spencer ' \n",
            "t had been a sprat in the mouth of a whale .\" -- PILGRIM ' S PROGRESS . \" That \n",
            "EN ' S ANNUS MIRABILIS . \" While the whale is floating at the stern of the ship\n",
            "e ship called The Jonas - in - the - Whale . ... Some say the whale can ' t ope\n",
            " in - the - Whale . ... Some say the whale can ' t open his mouth , but that is\n",
            " masts to see whether they can see a whale , for the first discoverer has a duc\n",
            " for his pains . ... I was told of a whale taken near Shetland , that had above\n",
            "oneers told me that he caught once a whale in Spitzbergen that was white all ov\n",
            "2 , one eighty feet in length of the whale - bone kind came in , which ( as I w\n",
            "n master and kill this Sperma - ceti whale , for I could never hear of any of t\n",
            " . 1729 . \"... and the breath of the whale is frequendy attended with such an i\n",
            "ed with hoops and armed with ribs of whale .\" -- RAPE OF THE LOCK . \" If we com\n",
            "contemptible in the comparison . The whale is doubtless the largest animal in c\n"
          ]
        }
      ]
    },
    {
      "cell_type": "code",
      "source": [
        "text1.concordance(\"one\")"
      ],
      "metadata": {
        "colab": {
          "base_uri": "https://localhost:8080/"
        },
        "id": "9PCWv4dbeLLt",
        "outputId": "9fb9f9a5-0ce0-4f7a-90a3-0c38c2a65c5b"
      },
      "execution_count": 20,
      "outputs": [
        {
          "output_type": "stream",
          "name": "stdout",
          "text": [
            "Displaying 25 of 921 matches:\n",
            " be too rosy - strong ; but with whom one sometimes loves to sit , and feel poo\n",
            "an maketh a path to shine after him ; One would think the deep to be hoary .\" -\n",
            "e sea , appeared . Among the former , one was of a most monstrous size . ... Th\n",
            "ifty yards long . He said that he was one of six who had killed sixty in two da\n",
            "ntity of oil will be extracted out of one whale .\" -- IBID . \" HISTORY OF LIFE \n",
            "barrel of herrings in his belly . ... One of our harpooneers told me that he ca\n",
            " upon this coast ( Fife ) Anno 1652 , one eighty feet in length of the whale - \n",
            "seas , as I may say , by a hundred to one ; than we have to the northward of us\n",
            "SSECTION OF A WHALE . ( A SMALL SIZED ONE .) \" The aorta of a whale is larger i\n",
            "g and sporting with each other , when one observed : there -- pointing to the s\n",
            "1821 . \" A mariner sat in the shrouds one night , The wind was piping free ; No\n",
            " boats engaged in the capture of this one whale , amounted altogether to 10 , 4\n",
            " ON WHALING IN RIBS AND TRUCKS . \" On one occasion I saw two of these monsters \n",
            "y male and female , slowly swimming , one after the other , within less than a \n",
            "most any path you please , and ten to one it carries you down in a dale , and l\n",
            "taphysical professor . Yes , as every one knows , meditation and water are wedd\n",
            "p among Tiger - lilies -- what is the one charm wanting ?-- Water -- there is n\n",
            "lly salted and peppered , there is no one who will speak more respectfully , no\n",
            "ing is unpleasant enough . It touches one ' s sense of honour , particularly if\n",
            "awe of you . The transition is a keen one , I assure you , from a schoolmaster \n",
            "is all right ; that everybody else is one way or other served in much the same \n",
            " way -- he can better answer than any one else . And , doubtless , my going on \n",
            "E UNITED STATES . \" WHALING VOYAGE BY ONE ISHMAEL . \" BLOODY BATTLE IN AFFGHANI\n",
            "rms with all the inmates of the place one lodges in . By reason of these things\n",
            " whale , and , mid most of them all , one grand hooded phantom , like a snow hi\n"
          ]
        }
      ]
    },
    {
      "cell_type": "code",
      "source": [
        "text1.concordance(\"like\")"
      ],
      "metadata": {
        "colab": {
          "base_uri": "https://localhost:8080/"
        },
        "id": "g7EkuxsVeS6K",
        "outputId": "46e66f16-24ff-42b6-b00d-eb04b458dd94"
      },
      "execution_count": 21,
      "outputs": [
        {
          "output_type": "stream",
          "name": "stdout",
          "text": [
            "Displaying 25 of 647 matches:\n",
            "athan that maketh the seas to seethe like boiling pan .\" -- LORD BACON ' S VER\n",
            "ard bruise .\" -- KING HENRY . \" Very like a whale .\" -- HAMLET . \" Which to se\n",
            "east , had bred his restless paine , Like as the wounded whale to shore flies \n",
            "ERMA CETI WHALE . VIDE HIS V . E . \" Like Spencer ' s Talus with his modern fl\n",
            "ng creatures , in the deep Stretched like a promontory sleeps or swims , And s\n",
            "e fishes , you would make them speak like great wales .\" -- GOLDSMITH TO JOHNS\n",
            "ave : Gather ' d in shoals immense , like floating islands , Led by mysterious\n",
            "s tail in the air , which , cracking like a whip , resounds to the distance of\n",
            "rthward . What do you see ?-- Posted like silent sentinels all around the town\n",
            "is pine - tree shakes down its sighs like leaves upon this shepherd ' s head ,\n",
            "inction of such offices to those who like them . For my part , I abominate all\n",
            "and make me jump from spar to spar , like a grasshopper in a May meadow . And \n",
            " of the bill must have run something like this : \" GRAND CONTESTED ELECTION FO\n",
            "hem all , one grand hooded phantom , like a snow hill in the air . CHAPTER 2 T\n",
            "hand , and here and there a candle , like a candle moving about in a tomb . At\n",
            "s . Yet Dives himself , he too lives like a Czar in an ice palace made of froz\n",
            " , with a vast handle sweeping round like the segment made in the new - mown g\n",
            "nd a sunset . And that harpoon -- so like a corkscrew now -- was flung in Java\n",
            "l iron entered nigh the tail , and , like a restless needle sojourning in the \n",
            "ne side stood a long , low , shelf - like table covered with cracked glass cas\n",
            "in those jaws of swift destruction , like another cursed Jonah ( by which name\n",
            " old wooden settle , carved all over like a bench on the Battery . At one end \n",
            "upon which Jonah mixed him a pitch - like potion of gin and molasses , which h\n",
            ", with noble shoulders , and a chest like a coffer - dam . I have seldom seen \n",
            " don ' t know how it is , but people like to be private when they are sleeping\n"
          ]
        }
      ]
    },
    {
      "cell_type": "markdown",
      "metadata": {
        "id": "lmq2yp4vfE_v"
      },
      "source": [
        "## Упражнение 2\n",
        "\n",
        "Вы злой спамер, который заметил, что многие люди пытаются запутать свою электронную почту, используя пометку: «alex at utah dot edu». Ниже приведены три примера текста таких писем. Попробуйте извлечь «alex at utah dot edu» и т. д. Начните с первой строки. Затем расширьте свое регулярное выражение, чтобы оно работало со всеми ними одновременно. Обратите внимание, что второе и третье сделать намного сложнее!\n",
        "\n",
        "You're an evil Spammer who's observed that many people try to obfuscate their e-mail using this notation: \"`alex at utah dot edu`\". Below are three examples of such e-mails text. Try to extract \"alex at utah dot edu\", etc. Start with the first string. Then extend your regular expression to work on all of them at the same time. Note that the second and third are slightly harder to do!"
      ]
    },
    {
      "cell_type": "markdown",
      "source": [
        "1. \\b - это \"граница слова\"\n",
        "\n",
        "2. \\w - это шаблон, который соответствует буквам, цифрам и подчеркиванию.\n",
        "\n",
        "3. \\s* - это шаблон, который соответствует любому количеству пробельных символов (пробел, табуляция, новая строка).\n",
        "\n",
        "4. dot - это буквальная строка \"dot\".\n",
        "\n",
        "5. (?: ... ) - это не захватывающая группа. Это позволяет группировать выражения без их сохранения в результирующем совпадении.\n",
        "\n",
        "6. '* - это квантификатор, указывающий, что предыдущий элемент (в данном случае группа) может встречаться от нуля до бесконечности раз."
      ],
      "metadata": {
        "id": "SOq13h3ZCVC2"
      }
    },
    {
      "cell_type": "code",
      "execution_count": 27,
      "metadata": {
        "id": "D4th-nzUfE_w"
      },
      "outputs": [],
      "source": [
        "import re\n",
        "html_smart = \"You can reach me: alex at utah dot edu\"\n",
        "html_smart2 = \"You can reach me: alex dot lex at utah dot edu\"\n",
        "html_smart3 = \"You can reach me: alex dot lex at sci dot utah dot edu\""
      ]
    },
    {
      "cell_type": "code",
      "execution_count": 28,
      "metadata": {
        "id": "GuhTgPugfE_w"
      },
      "outputs": [],
      "source": [
        "def testRegex(regex):\n",
        "    for html in (html_smart, html_smart2, html_smart3):\n",
        "        print(re.search(regex, html).group())"
      ]
    },
    {
      "cell_type": "code",
      "execution_count": 29,
      "metadata": {
        "id": "0nEuxVzmfE_w"
      },
      "outputs": [],
      "source": [
        "# TODO write your regex here\n",
        "mail_regex =  r\"[\\w.]+(?: at | dot )[\\w.]+(?: dot [\\w.]+)?(?: at | dot )([\\w.]+(?: dot [\\w.]+)?)\""
      ]
    },
    {
      "cell_type": "code",
      "execution_count": 30,
      "metadata": {
        "id": "ipC2rl2KfE_w",
        "colab": {
          "base_uri": "https://localhost:8080/"
        },
        "outputId": "a9f3c29f-98f9-4e7b-ff8a-542a8deaac41"
      },
      "outputs": [
        {
          "output_type": "stream",
          "name": "stdout",
          "text": [
            "alex at utah dot edu\n",
            "alex dot lex at utah dot edu\n",
            "alex dot lex at sci dot utah\n"
          ]
        }
      ],
      "source": [
        "testRegex(mail_regex)"
      ]
    },
    {
      "cell_type": "markdown",
      "metadata": {
        "id": "LImPt4wZfE_w"
      },
      "source": [
        "## Упражнение 2.2: Найдите наречия\n",
        "\n",
        "Напишите регулярное выражение, которое находит все наречия в предложении. Наречия характеризуются окончанием на «ly»."
      ]
    },
    {
      "cell_type": "code",
      "execution_count": 31,
      "metadata": {
        "id": "nmyNpLb4fE_w"
      },
      "outputs": [],
      "source": [
        "text = \"He was carefully disguised but captured quickly by police.\""
      ]
    },
    {
      "cell_type": "code",
      "execution_count": 32,
      "metadata": {
        "id": "KAxV53k1fE_x",
        "colab": {
          "base_uri": "https://localhost:8080/"
        },
        "outputId": "77f29903-17f4-4418-8615-2732589b5163"
      },
      "outputs": [
        {
          "output_type": "stream",
          "name": "stdout",
          "text": [
            "Наречие ->  carefully\n",
            "Наречие ->  quickly\n"
          ]
        }
      ],
      "source": [
        "adverbs = re.findall(r'\\b\\w+ly\\b', text)\n",
        "for adverb in adverbs:\n",
        "  print(\"Наречие -> \", adverb)"
      ]
    },
    {
      "cell_type": "markdown",
      "metadata": {
        "id": "86cizeBTfE_x"
      },
      "source": [
        "### Упражнение 2.3: Телефонные номера\n",
        "\n",
        "Извлеките из текста номера телефонов, которые следуют шаблону (xxx) xxx-xxxx:"
      ]
    },
    {
      "cell_type": "code",
      "execution_count": 33,
      "metadata": {
        "id": "eAhuXlKPfE_x"
      },
      "outputs": [],
      "source": [
        "phone_numbers = \"(857) 131-2235, (801) 134-2215, but this one (12) 13044441 shouldnt match. Also, this is common in twelve (12) countries and one (1) state\""
      ]
    },
    {
      "cell_type": "markdown",
      "source": [
        "\n",
        "\\d{k} - обозначает k цифр подряд"
      ],
      "metadata": {
        "id": "khi8Vg_DDjF9"
      }
    },
    {
      "cell_type": "code",
      "execution_count": 16,
      "metadata": {
        "id": "cs8wqBwbfE_x",
        "colab": {
          "base_uri": "https://localhost:8080/"
        },
        "outputId": "ed9f2603-be7b-430e-d647-1ec99446ae76"
      },
      "outputs": [
        {
          "output_type": "stream",
          "name": "stdout",
          "text": [
            "Тел ->  (857) 131-2235\n",
            "Тел ->  (801) 134-2215\n"
          ]
        }
      ],
      "source": [
        "phones = re.findall(r'\\(\\d{3}\\) \\d{3}-\\d{4}', phone_numbers)\n",
        "for phone in phones:\n",
        "  print(\"Тел -> \", phone)"
      ]
    },
    {
      "cell_type": "markdown",
      "metadata": {
        "id": "R64ajsxFfE_x"
      },
      "source": [
        "### Упражнение 2.4. HTML-контент\n",
        "\n",
        "Извлеките содержимое между тегами `<b>` и `<i>`, но не другими тегами:"
      ]
    },
    {
      "cell_type": "code",
      "execution_count": 17,
      "metadata": {
        "id": "JcNALx1BfE_y"
      },
      "outputs": [],
      "source": [
        "html_tags = \"This is <b>important</b> and <u>very</u><i>timely</i>\""
      ]
    },
    {
      "cell_type": "code",
      "execution_count": 35,
      "metadata": {
        "id": "2_87yLyqfE_y",
        "colab": {
          "base_uri": "https://localhost:8080/"
        },
        "outputId": "fd302a15-ab7b-4be1-fdf0-c6c437af09bf"
      },
      "outputs": [
        {
          "output_type": "stream",
          "name": "stdout",
          "text": [
            "important\n",
            "timely\n"
          ]
        }
      ],
      "source": [
        "matches = re.findall(r'<b>(.*?)<\\/b>|<i>(.*?)<\\/i>', html_tags)\n",
        "\n",
        "flattened_matches = [match for group in matches for match in group if match]\n",
        "for i in flattened_matches:\n",
        "  print(i)"
      ]
    }
  ],
  "metadata": {
    "kernelspec": {
      "display_name": "Python 3",
      "language": "python",
      "name": "python3"
    },
    "language_info": {
      "codemirror_mode": {
        "name": "ipython",
        "version": 3
      },
      "file_extension": ".py",
      "mimetype": "text/x-python",
      "name": "python",
      "nbconvert_exporter": "python",
      "pygments_lexer": "ipython3",
      "version": "3.8.5"
    },
    "colab": {
      "provenance": []
    }
  },
  "nbformat": 4,
  "nbformat_minor": 0
}