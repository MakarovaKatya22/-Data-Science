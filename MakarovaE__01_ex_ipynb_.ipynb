{
  "cells": [
    {
      "cell_type": "markdown",
      "metadata": {
        "id": "Jyrf8xk3k6Ys"
      },
      "source": [
        "# Лабораторная работа к лекции 1\n",
        "Ваше имя: Макарова Екатерина\n",
        "\n",
        "Ваш адрес электронной почты: makarovakatya0237@gmail.com"
      ]
    },
    {
      "cell_type": "markdown",
      "metadata": {
        "id": "86N7viRzk6Yt"
      },
      "source": [
        "## Упражнение 1.1. Типы данных и операции\n",
        "1. Определите две переменные и присвойте первой целое число, а второй — число с плавающей запятой. Определите новую переменную и присвойте сумму двух предыдущих переменных. Каков тип данных третьей переменной?\n",
        "2. Переназначьте переменную с другим типом данных, например, возьмите одну из числовых переменных и присвойте ей строку. Какой новый тип данных?\n",
        "3. Посмотрите, что произойдет, если вы попытаетесь добавить строку к строке.\n",
        "4. Посмотрите, что произойдет, если вы добавите строку к числу с плавающей запятой или целому числу."
      ]
    },
    {
      "cell_type": "code",
      "execution_count": null,
      "metadata": {
        "id": "9ZgZCUPNk6Yt",
        "colab": {
          "base_uri": "https://localhost:8080/"
        },
        "outputId": "98a35151-da08-4f47-9fee-75e8a866039e"
      },
      "outputs": [
        {
          "output_type": "stream",
          "name": "stdout",
          "text": [
            "25.2 <class 'float'>\n"
          ]
        }
      ],
      "source": [
        "a = 22\n",
        "b = 3.2\n",
        "c = a + b\n",
        "print(c,type(c))"
      ]
    },
    {
      "cell_type": "code",
      "source": [
        "d = \"30\"\n",
        "print(type(d))"
      ],
      "metadata": {
        "colab": {
          "base_uri": "https://localhost:8080/"
        },
        "id": "TUDVwrF0fTwl",
        "outputId": "800a64c8-bcfc-42a3-ce60-7238de767be9"
      },
      "execution_count": null,
      "outputs": [
        {
          "output_type": "stream",
          "name": "stdout",
          "text": [
            "<class 'str'>\n"
          ]
        }
      ]
    },
    {
      "cell_type": "code",
      "source": [
        "n = \"Katya\"\n",
        "f = \"Makarova\"\n",
        "n_f = n + f\n",
        "print(n_f)"
      ],
      "metadata": {
        "colab": {
          "base_uri": "https://localhost:8080/"
        },
        "id": "yEsVdOvmfkgx",
        "outputId": "b9a832e1-bae8-44c3-a839-4cc91be0b4a0"
      },
      "execution_count": null,
      "outputs": [
        {
          "output_type": "stream",
          "name": "stdout",
          "text": [
            "KatyaMakarova\n"
          ]
        }
      ]
    },
    {
      "cell_type": "code",
      "source": [
        "a = \"Katya\"\n",
        "b = 22\n",
        "c = 12.2\n",
        "#q = a + b  #добавление строки к целому числу\n",
        "e = a + c  #добавление строки к числу с плавающей точкой\n",
        "#print(q)\n",
        "print(e)\n",
        "# выдаётся ошибка, тк объекты имеют разные типы данных, чтобы устанить ошибку необходимо привести число к типу данных - строка"
      ],
      "metadata": {
        "colab": {
          "base_uri": "https://localhost:8080/",
          "height": 211
        },
        "id": "nel4Yra3f7fZ",
        "outputId": "8464e00e-dd09-4a05-e87c-6dfda1aca4bc"
      },
      "execution_count": 5,
      "outputs": [
        {
          "output_type": "error",
          "ename": "TypeError",
          "evalue": "can only concatenate str (not \"float\") to str",
          "traceback": [
            "\u001b[0;31m---------------------------------------------------------------------------\u001b[0m",
            "\u001b[0;31mTypeError\u001b[0m                                 Traceback (most recent call last)",
            "\u001b[0;32m<ipython-input-5-a92960fd5260>\u001b[0m in \u001b[0;36m<cell line: 5>\u001b[0;34m()\u001b[0m\n\u001b[1;32m      3\u001b[0m \u001b[0mc\u001b[0m \u001b[0;34m=\u001b[0m \u001b[0;36m12.2\u001b[0m\u001b[0;34m\u001b[0m\u001b[0;34m\u001b[0m\u001b[0m\n\u001b[1;32m      4\u001b[0m \u001b[0;31m#q = a + b  #добавление строки к целому числу\u001b[0m\u001b[0;34m\u001b[0m\u001b[0;34m\u001b[0m\u001b[0m\n\u001b[0;32m----> 5\u001b[0;31m \u001b[0me\u001b[0m \u001b[0;34m=\u001b[0m \u001b[0ma\u001b[0m \u001b[0;34m+\u001b[0m \u001b[0mc\u001b[0m  \u001b[0;31m#добавление строки к числу с плавающей точкой\u001b[0m\u001b[0;34m\u001b[0m\u001b[0;34m\u001b[0m\u001b[0m\n\u001b[0m\u001b[1;32m      6\u001b[0m \u001b[0;31m#print(q)\u001b[0m\u001b[0;34m\u001b[0m\u001b[0;34m\u001b[0m\u001b[0m\n\u001b[1;32m      7\u001b[0m \u001b[0mprint\u001b[0m\u001b[0;34m(\u001b[0m\u001b[0me\u001b[0m\u001b[0;34m)\u001b[0m\u001b[0;34m\u001b[0m\u001b[0;34m\u001b[0m\u001b[0m\n",
            "\u001b[0;31mTypeError\u001b[0m: can only concatenate str (not \"float\") to str"
          ]
        }
      ]
    },
    {
      "cell_type": "markdown",
      "metadata": {
        "id": "ZMoobyT-k6Yu"
      },
      "source": [
        "## Упражнение 1.2. Запуск программ\n",
        "\n",
        "  * Создайте новый файл Python(или файл с расширением `.ipynb`) и используйте функцию `double_number` в качестве шаблона. Измените код, чтобы добавить два числа вместо удвоения одного числа.\n",
        "  * Можете ли вы догадаться, что произойдет, если изменить отступ? Выполните данное действие.\n",
        "  * Попробуйте, что произойдет, если вы напечатаете `a` в самом конце программы. Пояснить, что происходит?\n",
        " [Текст ссылки](https://)"
      ]
    },
    {
      "cell_type": "code",
      "execution_count": 2,
      "metadata": {
        "id": "N2v5UHG1k6Yu",
        "colab": {
          "base_uri": "https://localhost:8080/"
        },
        "outputId": "9508abd7-ca67-46cf-e3fc-1c0c8092f20c"
      },
      "outputs": [
        {
          "output_type": "stream",
          "name": "stdout",
          "text": [
            "34\n",
            "25.509999999999998\n"
          ]
        }
      ],
      "source": [
        "def two_number(a,b):\n",
        "    r = a + b\n",
        "    return r\n",
        "\n",
        "print(two_number(22, 12))\n",
        "print(two_number(13.23, 12.28))"
      ]
    },
    {
      "cell_type": "code",
      "source": [
        "def two_number(a,b):\n",
        "r = a + b # Изменение отступа ломает логику выполнения программы и вызывает синтаксическую ошибку.\n",
        "return r\n",
        "\n",
        "print(two_number(22, 12))\n",
        "print(two_number(13.23, 12.28))"
      ],
      "metadata": {
        "colab": {
          "base_uri": "https://localhost:8080/",
          "height": 106
        },
        "id": "uS_zYaHsxgze",
        "outputId": "efbc1e72-fdc1-443f-ef62-b64bf7e96a99"
      },
      "execution_count": 4,
      "outputs": [
        {
          "output_type": "error",
          "ename": "IndentationError",
          "evalue": "expected an indented block after function definition on line 1 (<ipython-input-4-7abe2df7de00>, line 2)",
          "traceback": [
            "\u001b[0;36m  File \u001b[0;32m\"<ipython-input-4-7abe2df7de00>\"\u001b[0;36m, line \u001b[0;32m2\u001b[0m\n\u001b[0;31m    r = a + b # Изменение отступа ломает логику выполнения программы и вызывает синтаксическую ошибку.\u001b[0m\n\u001b[0m    ^\u001b[0m\n\u001b[0;31mIndentationError\u001b[0m\u001b[0;31m:\u001b[0m expected an indented block after function definition on line 1\n"
          ]
        }
      ]
    },
    {
      "cell_type": "markdown",
      "metadata": {
        "id": "15GtjpzGk6Yu"
      },
      "source": [
        "## Упражнение 1.3. Создание ячеек, выполнение кода\n",
        "\n",
        "1. Создайте новую ячейку кода ниже, где вы определите переменные, содержащие ваше имя, ваш возраст  и вашу специальность.\n",
        "2. Создайте еще одну ячейку, использующую эти переменные, и выведите объединенную строку с указанием вашего имени, специальности и возраста в годах, месяцах и днях (при условии, что сегодня ваш день рождения). Вывод должен выглядеть так:\n",
        "\n",
        "```\n",
        "Имя: Кот-ученый, Специальность: Бизнес-Информатика, Возраст: 18 лет, или 216 месяцев, или 6480 дней..\n",
        "```"
      ]
    },
    {
      "cell_type": "code",
      "source": [
        "name = \"Екатерина\"\n",
        "spec = \"Бизнес-информатика\"\n",
        "age = 21"
      ],
      "metadata": {
        "id": "d7mWcB5T72-G"
      },
      "execution_count": null,
      "outputs": []
    },
    {
      "cell_type": "code",
      "source": [
        "age_month = age * 12\n",
        "age_day = age * 365\n",
        "\n",
        "print(f\"Имя: {name}, Специальность: {spec}, Возраст: {age} год, или {age_month} месяцев, или {age_day} дней\")"
      ],
      "metadata": {
        "colab": {
          "base_uri": "https://localhost:8080/"
        },
        "id": "qd_NMWfo8F3_",
        "outputId": "7bba91cb-0b0e-4f2d-b71f-5e167d766ef4"
      },
      "execution_count": null,
      "outputs": [
        {
          "output_type": "stream",
          "name": "stdout",
          "text": [
            "Имя: Екатерина, Специальность: Бизнес-информатика, Возраст: 21 год, или 252 месяцев, или 7665 дней\n"
          ]
        }
      ]
    },
    {
      "cell_type": "markdown",
      "metadata": {
        "id": "bPTBzjXhk6Yu"
      },
      "source": [
        "## Упражнение 1.4: Функции\n",
        "Напишите функцию, которая\n",
        "  * принимает две числовые переменные\n",
        "  * умножает их друг на друга\n",
        "  * делит их на числовую переменную, определенную в области видимости вне функции\n",
        "  * и возвращает результат.\n",
        "\n",
        "Выведите результат функции для трех разных наборов входных переменных."
      ]
    },
    {
      "cell_type": "code",
      "execution_count": null,
      "metadata": {
        "id": "z7DKIUQCk6Yu",
        "colab": {
          "base_uri": "https://localhost:8080/"
        },
        "outputId": "10537b95-0ff2-4fd3-8a5a-f8f490304482"
      },
      "outputs": [
        {
          "output_type": "stream",
          "name": "stdout",
          "text": [
            "44.0\n",
            "32.5\n",
            "15.0\n"
          ]
        }
      ],
      "source": [
        "def calculate(num1, num2):\n",
        "    global a\n",
        "    result = (num1 * num2) / a\n",
        "    return result\n",
        "\n",
        "a = 2\n",
        "\n",
        "result1 = calculate(22, 4)\n",
        "print(result1)\n",
        "\n",
        "result2 = calculate(13, 5)\n",
        "print(result2)\n",
        "\n",
        "result3 = calculate(10, 3)\n",
        "print(result3)"
      ]
    },
    {
      "cell_type": "markdown",
      "metadata": {
        "id": "rrlj653weBxZ"
      },
      "source": [
        "## Упражнение 1.5*\n",
        "\n",
        "Есть некоторые данные о количестве книг, прочитанных разными людьми, работающими в книжном магазине Владимира. Создайте код Python, который учитывает каждого человека и выводит, сколько книг он прочитал. Если кто-то прочитал 0 книг, выведите «___ не читал ни одной книги!» вместо количества книг."
      ]
    },
    {
      "cell_type": "code",
      "execution_count": null,
      "metadata": {
        "id": "VThZNfq6eBxa"
      },
      "outputs": [],
      "source": [
        "people = ['Krishnang', 'Steve', 'Jimmy', 'Mary', 'Divya', 'Robert', 'Yulia']\n",
        "books_read = [12, 6, 0, 7, 4, 10, 15]"
      ]
    },
    {
      "cell_type": "markdown",
      "metadata": {
        "id": "ihry8S4ceBxb"
      },
      "source": [
        "Существует несколько способов решить эту задачу: можно изучить функцию `zip()`, использовать `enumerate()`, `range` и `len` или использовать другие методы. Чтобы напечатать имена и значения, вы можете использовать конкатенацию строк (+), форматирование f-строки или другие методы."
      ]
    },
    {
      "cell_type": "code",
      "execution_count": null,
      "metadata": {
        "id": "JrTa73lueBxb",
        "colab": {
          "base_uri": "https://localhost:8080/"
        },
        "outputId": "20538bf2-8fe8-4e04-aba4-4c908bde3dc1"
      },
      "outputs": [
        {
          "output_type": "stream",
          "name": "stdout",
          "text": [
            "Krishnang прочитал 12 книг.\n",
            "Steve прочитал 6 книг.\n",
            "Jimmy не прочитал ни одной книги!\n",
            "Mary прочитал 7 книг.\n",
            "Divya прочитал 4 книг.\n",
            "Robert прочитал 10 книг.\n",
            "Yulia прочитал 15 книг.\n"
          ]
        }
      ],
      "source": [
        "for person, books in zip(people, books_read):\n",
        "  if books == 0 :\n",
        "    print(f\"{person} не прочитал ни одной книги!\")\n",
        "  else:\n",
        "    print(f\"{person} прочитал {books} книг.\")"
      ]
    },
    {
      "cell_type": "markdown",
      "metadata": {
        "id": "Up1xBqyQeBxc"
      },
      "source": [
        "Преобразуйте только что созданный цикл в функцию, которая принимает два списка (прочитанные книги и людей) в качестве аргументов."
      ]
    },
    {
      "cell_type": "code",
      "execution_count": null,
      "metadata": {
        "id": "6dSxNWXJeBxc"
      },
      "outputs": [],
      "source": [
        "def f_read_books(peopl, r_books):\n",
        "  for person, books in zip(peopl, r_books):\n",
        "    if books == 0 :\n",
        "      print(f\"{person} не прочитал ни одной книги!\")\n",
        "    else:\n",
        "      print(f\"{person} прочитал {books} книг.\")"
      ]
    },
    {
      "cell_type": "code",
      "source": [
        "peopl = [\"Петя\", \"Вова\", \"Антон\", \"Саша\"]\n",
        "r_books = [10, 0, 20, 7]"
      ],
      "metadata": {
        "id": "5C833yCWBGPE"
      },
      "execution_count": null,
      "outputs": []
    },
    {
      "cell_type": "code",
      "source": [
        "f_read_books(peopl, r_books)"
      ],
      "metadata": {
        "colab": {
          "base_uri": "https://localhost:8080/"
        },
        "id": "zXixT331BHiF",
        "outputId": "346953d5-61e8-45c1-a737-41e43a4123ff"
      },
      "execution_count": null,
      "outputs": [
        {
          "output_type": "stream",
          "name": "stdout",
          "text": [
            "Петя прочитал 10 книг.\n",
            "Вова не прочитал ни одной книги!\n",
            "Антон прочитал 20 книг.\n",
            "Саша прочитал 7 книг.\n"
          ]
        }
      ]
    },
    {
      "cell_type": "markdown",
      "metadata": {
        "id": "dC4DKMl-eBxd"
      },
      "source": [
        "Отсортируйте значения `books_read` от большего к меньшему и выведите трех первых людей с количеством прочитанных ими книг. Некоторые возможные способы решения этой задачи включают использование сортировки аргументов `NumPy`, создание словаря и создание кортежей."
      ]
    },
    {
      "cell_type": "code",
      "execution_count": null,
      "metadata": {
        "id": "pwfkyIp4eBxd",
        "colab": {
          "base_uri": "https://localhost:8080/"
        },
        "outputId": "564d1172-c118-446d-cb64-60f964d47621"
      },
      "outputs": [
        {
          "output_type": "stream",
          "name": "stdout",
          "text": [
            "Антон прочитал 20 книг.\n",
            "Петя прочитал 10 книг.\n",
            "Саша прочитал 7 книг.\n",
            "Вова не прочитал ни одной книги!\n"
          ]
        }
      ],
      "source": [
        "def f_read_books(peopl, r_books):\n",
        "  for person, books in sorted(zip(peopl, r_books),key=lambda x: x[1], reverse=True): # key=lambda x: x[1] означает, по какому элементу мы сортируем\n",
        "    if books == 0 :\n",
        "      print(f\"{person} не прочитал ни одной книги!\")\n",
        "    else:\n",
        "      print(f\"{person} прочитал {books} книг.\")\n",
        "\n",
        "peopl = [\"Петя\", \"Вова\", \"Антон\", \"Саша\"]\n",
        "r_books = [10, 0, 20, 7]\n",
        "\n",
        "f_read_books(peopl, r_books)"
      ]
    }
  ],
  "metadata": {
    "colab": {
      "provenance": []
    },
    "kernelspec": {
      "display_name": "Python 3 (ipykernel)",
      "language": "python",
      "name": "python3"
    },
    "language_info": {
      "codemirror_mode": {
        "name": "ipython",
        "version": 3
      },
      "file_extension": ".py",
      "mimetype": "text/x-python",
      "name": "python",
      "nbconvert_exporter": "python",
      "pygments_lexer": "ipython3",
      "version": "3.9.13"
    }
  },
  "nbformat": 4,
  "nbformat_minor": 0
}